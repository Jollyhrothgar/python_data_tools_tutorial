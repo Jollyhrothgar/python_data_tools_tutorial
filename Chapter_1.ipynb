{
 "cells": [
  {
   "cell_type": "markdown",
   "metadata": {},
   "source": [
    "# Chapter 1: Manipulating Numpy Arrays\n",
    "\n",
    "This notebook follows along with the sci-py lecture notes <a href=\"http://www.scipy-lectures.org/intro/numpy/array_object.html\">here.</a>.\n",
    "Arrays at the core are lists, but they are heavily optimized. Additionally, these arrays can represent more complicated objects, such as tensors, matricies, etc."
   ]
  },
  {
   "cell_type": "code",
   "execution_count": 1,
   "metadata": {
    "collapsed": true
   },
   "outputs": [],
   "source": [
    "import numpy as np"
   ]
  },
  {
   "cell_type": "code",
   "execution_count": 2,
   "metadata": {
    "collapsed": false
   },
   "outputs": [
    {
     "data": {
      "text/plain": [
       "array([0, 1, 2, 3, 4, 5, 6, 7, 8, 9])"
      ]
     },
     "execution_count": 2,
     "metadata": {},
     "output_type": "execute_result"
    }
   ],
   "source": [
    "a = np.array(list(range(10)))\n",
    "a"
   ]
  },
  {
   "cell_type": "markdown",
   "metadata": {},
   "source": [
    "## Memory Efficient  Speedy Operations\n",
    "Numpy arrays are written in C, and thus are memory efficient and fast. As an example, see vanilla iteration below:\n",
    "\n",
    "Vanilla list iteration using python3 and magic commands:"
   ]
  },
  {
   "cell_type": "code",
   "execution_count": 3,
   "metadata": {
    "collapsed": false
   },
   "outputs": [
    {
     "name": "stdout",
     "output_type": "stream",
     "text": [
      "1000 loops, best of 3: 274 µs per loop\n"
     ]
    }
   ],
   "source": [
    "# An example of timing operations in python\n",
    "L1 = list(range(1000))\n",
    "%timeit [i**2 for i in L1]"
   ]
  },
  {
   "cell_type": "markdown",
   "metadata": {},
   "source": [
    "### An Aside - Notebook Magic\n",
    "Jupyter notebooks is a descendent of the iPython shell, which is somewhat similar to the ROOT CINT environment. The iPython shell is a beefy python interpreter with a lot of extra functionality not found in the vanilla python shell. One function is the concept of <a href=\"https://ipython.org/ipython-doc/3/interactive/magics.html\">'magic commands'</a>, which allows for extra functionality, such as switching directories, timing a process, etc. Thus, '%timeit' is one such functionality - it times whatever follows (I assume on one line)?"
   ]
  },
  {
   "cell_type": "markdown",
   "metadata": {},
   "source": [
    "## Now observe timing with Numpy\n",
    "similar to python's range, numpy's arange generates a list of values. Although in python3, range switched from returning a list to returning an iterable, which offers better performance for things like <pre> if my_num in range(10**10) </pre> Numpy's arange also supports more advanced options, such as specifying beginnings, ends, step sizes, etc to really customize the range of numbers generated.\n",
    "\n",
    "<pre>\n",
    "numpy.arange([start, ]stop, [step, ]dtype=None)\n",
    "</pre>"
   ]
  },
  {
   "cell_type": "code",
   "execution_count": 4,
   "metadata": {
    "collapsed": false
   },
   "outputs": [
    {
     "name": "stdout",
     "output_type": "stream",
     "text": [
      "numpy.arange(10) [0 1 2 3 4 5 6 7 8 9]\n",
      "numpy.arange(start=0,stop=2.5,step=0.25) [ 0.    0.25  0.5   0.75  1.    1.25  1.5   1.75  2.    2.25]\n",
      "numpy.arange(start=5, stop=15) [ 5  6  7  8  9 10 11 12 13 14]\n"
     ]
    }
   ],
   "source": [
    "# An Example of timing operations in python with numpy\n",
    "# a range is like 'range' but it returns an array. It has additional features as well:\n",
    "\n",
    "# Examples\n",
    "print(\"numpy.arange(10)\",np.arange(10))\n",
    "print(\"numpy.arange(start=0,stop=2.5,step=0.25)\",np.arange(start=0,stop=2.5,step=0.25))\n",
    "print(\"numpy.arange(start=5, stop=15)\", np.arange(5,15))"
   ]
  },
  {
   "cell_type": "code",
   "execution_count": 5,
   "metadata": {
    "collapsed": false
   },
   "outputs": [
    {
     "name": "stdout",
     "output_type": "stream",
     "text": [
      "10000 loops, best of 3: 162 µs per loop\n"
     ]
    }
   ],
   "source": [
    "# An example of timing with numpy\n",
    "L2 = np.arange(1000)\n",
    "%timeit [i**2 for i in L2]"
   ]
  },
  {
   "cell_type": "markdown",
   "metadata": {},
   "source": [
    "## Documentation Features\n",
    "Of course, numpy is fully documented at <a href=\"http://docs.scipy.org\">docs.scipy.org</a>, but one can access help interactively:"
   ]
  },
  {
   "cell_type": "code",
   "execution_count": 6,
   "metadata": {
    "collapsed": false
   },
   "outputs": [
    {
     "name": "stdout",
     "output_type": "stream",
     "text": [
      "Search results for 'create array'\n",
      "---------------------------------\n",
      "numpy.array\n",
      "    Create an array.\n",
      "numpy.memmap\n",
      "    Create a memory-map to an array stored in a *binary* file on disk.\n",
      "numpy.diagflat\n",
      "    Create a two-dimensional array with the flattened input as a diagonal.\n",
      "numpy.fromiter\n",
      "    Create a new 1-dimensional array from an iterable object.\n",
      "numpy.partition\n",
      "    Return a partitioned copy of an array.\n",
      "numpy.ma.diagflat\n",
      "    Create a two-dimensional array with the flattened input as a diagonal.\n",
      "numpy.ctypeslib.as_array\n",
      "    Create a numpy array from a ctypes array or a ctypes POINTER.\n",
      "numpy.ma.make_mask\n",
      "    Create a boolean mask from an array.\n",
      "numpy.ctypeslib.as_ctypes\n",
      "    Create and return a ctypes object from a numpy array.  Actually\n",
      "numpy.ma.mrecords.fromarrays\n",
      "    Creates a mrecarray from a (flat) list of masked arrays.\n",
      "numpy.ma.mvoid.__new__\n",
      "    Create a new masked array from scratch.\n",
      "numpy.lib.format.open_memmap\n",
      "    Open a .npy file as a memory-mapped array.\n",
      "numpy.ma.MaskedArray.__new__\n",
      "    Create a new masked array from scratch.\n",
      "numpy.lib.arrayterator.Arrayterator\n",
      "    Buffered iterator for big arrays.\n",
      "numpy.ma.mrecords.fromtextfile\n",
      "    Creates a mrecarray from data stored in the file `filename`.\n",
      "numpy.asarray\n",
      "    Convert the input to an array.\n",
      "numpy.ndarray\n",
      "    ndarray(shape, dtype=float, buffer=None, offset=0,\n",
      "numpy.recarray\n",
      "    Construct an ndarray that allows field access using attributes.\n",
      "numpy.chararray\n",
      "    chararray(shape, itemsize=1, unicode=False, buffer=None, offset=0,\n",
      "numpy.pad\n",
      "    Pads an array.\n",
      "numpy.asanyarray\n",
      "    Convert the input to an ndarray, but pass ndarray subclasses through.\n",
      "numpy.copy\n",
      "    Return an array copy of the given object.\n",
      "numpy.diag\n",
      "    Extract a diagonal or construct a diagonal array.\n",
      "numpy.load\n",
      "    Load arrays or pickled objects from ``.npy``, ``.npz`` or pickled files.\n",
      "numpy.sort\n",
      "    Return a sorted copy of an array.\n",
      "numpy.array_equiv\n",
      "    Returns True if input arrays are shape consistent and all elements equal.\n",
      "numpy.dtype\n",
      "    Create a data type object.\n",
      "numpy.choose\n",
      "    Construct an array from an index array and a set of arrays to choose from.\n",
      "numpy.nditer\n",
      "    Efficient multi-dimensional iterator object to iterate over arrays.\n",
      "numpy.swapaxes\n",
      "    Interchange two axes of an array.\n",
      "numpy.ma.mrecords.MaskedRecords.__new__\n",
      "    Create a new masked array from scratch.\n",
      "numpy.full_like\n",
      "    Return a full array with the same shape and type as a given array.\n",
      "numpy.ones_like\n",
      "    Return an array of ones with the same shape and type as a given array.\n",
      "numpy.empty_like\n",
      "    Return a new array with the same shape and type as a given array.\n",
      "numpy.zeros_like\n",
      "    Return an array of zeros with the same shape and type as a given array.\n",
      "numpy.asarray_chkfinite\n",
      "    Convert the input to an array, checking for NaNs or Infs.\n",
      "numpy.diag_indices\n",
      "    Return the indices to access the main diagonal of an array.\n",
      "numpy.ma.choose\n",
      "    Use an index array to construct a new array from a set of choices.\n",
      "numpy.chararray.tolist\n",
      "    a.tolist()\n",
      "numpy.matlib.rand\n",
      "    Return a matrix of random values with given shape.\n",
      "numpy.savez_compressed\n",
      "    Save several arrays into a single file in compressed ``.npz`` format.\n",
      "numpy.ma.empty_like\n",
      "    Return a new array with the same shape and type as a given array.\n",
      "numpy.ma.make_mask_none\n",
      "    Return a boolean mask of the given shape, filled with False.\n",
      "numpy.ma.mrecords.fromrecords\n",
      "    Creates a MaskedRecords from a list of records.\n",
      "numpy.around\n",
      "    Evenly round to the given number of decimals.\n",
      "numpy.source\n",
      "    Print or write to a file the source code for a Numpy object.\n",
      "numpy.diagonal\n",
      "    Return specified diagonals.\n",
      "numpy.histogram2d\n",
      "    Compute the bi-dimensional histogram of two data samples.\n",
      "numpy.fft.ifft\n",
      "    Compute the one-dimensional inverse discrete Fourier Transform.\n",
      "numpy.fft.ifftn\n",
      "    Compute the N-dimensional inverse discrete Fourier Transform.\n",
      "numpy.busdaycalendar\n",
      "    A business day calendar object that efficiently stores information"
     ]
    }
   ],
   "source": [
    "np.lookfor(\"create array\")\n",
    "np.array?"
   ]
  },
  {
   "cell_type": "code",
   "execution_count": 7,
   "metadata": {
    "collapsed": false
   },
   "outputs": [],
   "source": [
    "# support for wildcards, too!\n",
    "np.con*?"
   ]
  },
  {
   "cell_type": "markdown",
   "metadata": {},
   "source": [
    "## Creating Numpy Arrays In Arbitrary Dimensions, Plus Shape\n",
    "### Manually\n",
    "np.array.ndim: gives the dimensionality of the array - i.e. does it contain 1D objects, 2D objects, etc?\n",
    "np.array.shape: gives the 'shape' of an array - i.e. how many 'rows' and 'columns' does it have? For 1D arrays, the shape only has one dimension, so the output will look like <pre> <#rows>, </pre> with no entry for columns. For higher dimension, you get the overall 'shape' i.e. the number of rows per dimension.\n",
    "\n",
    "For mixed dimensional np.arrays, it seems that the arrays are treated as 1D objects."
   ]
  },
  {
   "cell_type": "code",
   "execution_count": 8,
   "metadata": {
    "collapsed": false
   },
   "outputs": [
    {
     "name": "stdout",
     "output_type": "stream",
     "text": [
      "1D Operations:\n",
      "a.ndim 1\n",
      "a.shape (4,)\n",
      "\n",
      "\n",
      "2D Operations\n",
      "b.ndim 2\n",
      "b.shape (3, 2)\n",
      "Transposition is supported for b, before:\n",
      " [[1 2]\n",
      " [3 4]\n",
      " [5 6]]\n",
      "After:\n",
      " [[1 3 5]\n",
      " [2 4 6]]\n",
      "\n",
      "\n",
      "Mixed 1/2 Dimensions\n",
      "d.ndim 1\n",
      "d.shape (3,)\n",
      "Transposition is supported for d, before:\n",
      " [[2, 3] [1, 6, 12] [4, 5]]\n",
      "After:\n",
      " [[2, 3] [1, 6, 12] [4, 5]]\n",
      "\n",
      "\n",
      "3D Operations\n",
      "f [[[1]\n",
      "  [2]]\n",
      "\n",
      " [[3]\n",
      "  [4]]]\n",
      "f.ndim 3\n",
      "f.shape (2, 2, 1)\n",
      "4 (4,)\n",
      "3 (3, 2)\n",
      "2 (2, 3)\n",
      "3 (3,)\n",
      "2 (2, 2, 1)\n"
     ]
    }
   ],
   "source": [
    "# One Dimension\n",
    "print(\"1D Operations:\")\n",
    "a = np.array([0,1,2,3])\n",
    "print(\"a.ndim\",a.ndim )\n",
    "print(\"a.shape\",a.shape)\n",
    "print(\"\\n\")\n",
    "\n",
    "# Two Dimensions\n",
    "print(\"2D Operations\")\n",
    "b = np.array([[1,2],[3,4],[5,6]]) # 3 x 2 array\n",
    "print(\"b.ndim\", b.ndim)\n",
    "print(\"b.shape\", b.shape)\n",
    "print(\"Transposition is supported for b, before:\\n\",b)\n",
    "c = b.transpose()\n",
    "print(\"After:\\n\",c)\n",
    "print(\"\\n\")\n",
    "\n",
    "# What about mixed dimensions?\n",
    "print(\"Mixed 1/2 Dimensions\")\n",
    "d = np.array([[2,3],[1,6,12],[4,5]])\n",
    "print(\"d.ndim\", d.ndim)\n",
    "print(\"d.shape\", d.shape)\n",
    "print(\"Transposition is supported for d, before:\\n\",d)\n",
    "e = d.transpose()\n",
    "print(\"After:\\n\",e)\n",
    "print(\"\\n\")\n",
    "\n",
    "# 3D \n",
    "print(\"3D Operations\")\n",
    "f = np.array([[[1], [2]], [[3], [4]]])\n",
    "print(\"f\",f)\n",
    "print(\"f.ndim\",f.ndim)\n",
    "print(\"f.shape\",f.shape)\n",
    "\n",
    "# Exploration\n",
    "# len vs shape\n",
    "print(len(a),a.shape)\n",
    "print(len(b),b.shape)\n",
    "print(len(c),c.shape)\n",
    "print(len(d),d.shape)\n",
    "print(len(f),f.shape)"
   ]
  },
  {
   "cell_type": "markdown",
   "metadata": {},
   "source": [
    "#### Exercises\n",
    "1. Create 2D array. Odd numbers on top row, even number on the second number.\n",
    "2. Use len() and numpy.array.shape on this array. What is the relationship between len(), numpy.array.shape and numpy.array.ndim?"
   ]
  },
  {
   "cell_type": "code",
   "execution_count": 9,
   "metadata": {
    "collapsed": false
   },
   "outputs": [
    {
     "name": "stdout",
     "output_type": "stream",
     "text": [
      "[[1 3 5 7 9]\n",
      " [0 2 4 6 8]]\n",
      "len:  2 shape: (2, 5) ndim: 2\n",
      "[[1 2 3]\n",
      " [4 5 6]\n",
      " [7 8 9]]\n",
      "len:  3 shape: (3, 3) ndim: 2\n"
     ]
    }
   ],
   "source": [
    "# Solution 1\n",
    "arr_solution_1 = np.array([[n for n in range(10) if n %2 != 0],[n for n in range(10) if n%2 == 0]])\n",
    "\n",
    "def compare(arr):\n",
    "    \"\"\"\n",
    "    for a numpy array arr, compare python's build in len, \n",
    "    numpy.array.shape and numpy.array.ndim\n",
    "    \"\"\"\n",
    "    print(arr)\n",
    "    print(\"len: \", len(arr), \"shape:\", arr.shape, \"ndim:\", arr.ndim)\n",
    "    return\n",
    "compare(arr_solution_1)\n",
    "arr_solution_2 = np.array([[n for n in range(1,4)],[n for n in range(4,7)],[n for n in range(7,10)]])\n",
    "compare(arr_solution_2)"
   ]
  },
  {
   "cell_type": "markdown",
   "metadata": {},
   "source": [
    "### Functionally"
   ]
  },
  {
   "cell_type": "code",
   "execution_count": null,
   "metadata": {
    "collapsed": true
   },
   "outputs": [],
   "source": []
  }
 ],
 "metadata": {
  "kernelspec": {
   "display_name": "Python 3",
   "language": "python",
   "name": "python3"
  },
  "language_info": {
   "codemirror_mode": {
    "name": "ipython",
    "version": 3
   },
   "file_extension": ".py",
   "mimetype": "text/x-python",
   "name": "python",
   "nbconvert_exporter": "python",
   "pygments_lexer": "ipython3",
   "version": "3.5.2"
  }
 },
 "nbformat": 4,
 "nbformat_minor": 1
}
